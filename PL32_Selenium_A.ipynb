{
 "cells": [
  {
   "cell_type": "markdown",
   "metadata": {},
   "source": [
    "# Prüfungsleistung 3.2: Selenium verstehen-Amir Zahedidarehshoori , Seyedehhadiseh Abbaspoor\n",
    "- Erstellen Sie einen Testfälle in diesem Notebook mit Selenium WebDriver für die Seite \"https://unsplash.com/de/\".\n",
    "- Testfall 1: Bildersuche\n",
    "    - Suche nach \"Hochschule\"\n",
    "    - Prüfen, dass meh als 10 Fotos angezeigt werden\n",
    "    - Filtern nach \"Neueste\"\n",
    "    - Auswahl des ersten Fotos\n",
    "    - Ausgeben des Veröffentlichungsdatums\n",
    "- Testfall 2: Entdecken und herunterladen\n",
    "    - Entdecken von Fotos\n",
    "    - Erstes Foto auswählen\n",
    "    - Foto herunterladen\n",
    "    - Prüfen, ob Download erfolgreich war\n",
    "- ACHTUNG:\n",
    "    - Machen Sie am besten für einzelne Schritte einzelne Zellen im Notebook.\n",
    "    - Bauen Sie ggf. time.sleeps ein, damit das Notebook komplett durchlaufen kann."
   ]
  },
  {
   "cell_type": "code",
   "execution_count": 17,
   "metadata": {},
   "outputs": [],
   "source": [
    "# Bereite Driver vor\n",
    "from selenium import webdriver\n",
    "from selenium.webdriver.common.by import By\n",
    "from selenium.webdriver.chrome.options import Options\n",
    "import time\n",
    "\n",
    "chrome_options = Options()\n",
    "chrome_options.add_experimental_option('prefs', {\n",
    "    'download.prompt_for_download': False,\n",
    "    'download.directory_upgrade': True,\n",
    "    'safebrowsing.enabled': True\n",
    "})\n",
    "\n",
    "driver = webdriver.Chrome(options=chrome_options)"
   ]
  },
  {
   "cell_type": "markdown",
   "metadata": {},
   "source": [
    "## Testfall 1: Bildersuche"
   ]
  },
  {
   "cell_type": "code",
   "execution_count": 2,
   "metadata": {},
   "outputs": [],
   "source": [
    "# Öffne Unsplash-Seite\n",
    "driver.get(\"https://unsplash.com/de\")\n",
    "time.sleep(2)"
   ]
  },
  {
   "cell_type": "markdown",
   "metadata": {},
   "source": [
    "Überprüfen, ob das Cookie-Banner angezeigt wird, und akzeptieren, wenn es vorhanden ist"
   ]
  },
  {
   "cell_type": "code",
   "execution_count": 3,
   "metadata": {},
   "outputs": [
    {
     "name": "stdout",
     "output_type": "stream",
     "text": [
      "Cookies akzeptiert.\n"
     ]
    }
   ],
   "source": [
    "try:\n",
    "    cookies = driver.find_element(By.CLASS_NAME, \"styles-module_consentButton__IDK22\")\n",
    "    cookies.click()\n",
    "    time.sleep(2)\n",
    "    print(\"Cookies akzeptiert.\")\n",
    "except:\n",
    "    print(\"Cookie-Banner nicht angezeigt. Keine Aktion erforderlich.\")"
   ]
  },
  {
   "cell_type": "markdown",
   "metadata": {},
   "source": [
    "\n",
    "Dieser Code findet das Suchfeld mithilfe eines CSS-Selectors, löscht den vorhandenen Text und gibt den Begriff \"Hochschule\" ein. Anschließend wird das Suchformular abgeschickt und eine kurze Wartezeit für das Laden der Ergebnisse eingefügt."
   ]
  },
  {
   "cell_type": "code",
   "execution_count": 4,
   "metadata": {},
   "outputs": [],
   "source": [
    "search_box = driver.find_element(By.CSS_SELECTOR, \"input[name='searchKeyword']\")\n",
    "search_box.clear()\n",
    "search_box.send_keys(\"Hochschule\")\n",
    "time.sleep(1)\n",
    "\n",
    "search_box.submit()\n",
    "time.sleep(2)"
   ]
  },
  {
   "cell_type": "markdown",
   "metadata": {},
   "source": [
    "Dieser Code sucht alle Fotoelemente auf der Seite, die das Attribut data-testid=\"photo-grid-masonry-img\" enthalten, und speichert sie in der Liste photos. Anschließend wird die Anzahl der gefundenen Fotos ausgegeben und überprüft, ob es mehr als 10 Fotos gibt."
   ]
  },
  {
   "cell_type": "code",
   "execution_count": 5,
   "metadata": {},
   "outputs": [
    {
     "name": "stdout",
     "output_type": "stream",
     "text": [
      "Anzahl der Fotos: 20\n"
     ]
    }
   ],
   "source": [
    "photos = driver.find_elements(By.CSS_SELECTOR, '[data-testid=\"photo-grid-masonry-img\"]')\n",
    "print(f\"Anzahl der Fotos: {len(photos)}\")\n",
    "\n",
    "assert len(photos) > 10\n",
    "time.sleep(2)"
   ]
  },
  {
   "cell_type": "markdown",
   "metadata": {},
   "source": [
    "Dieser Code ermöglicht es, das Filter „Sortieren nach“ auf der Webseite anzuwenden, unabhängig davon, ob die Webseite im Vollbildmodus oder in einer kleineren Ansicht geöffnet ist.\n",
    "\n",
    "Im Vollbildmodus befindet sich die Option „Sortieren nach“ direkt auf der Hauptseite.Wenn jedoch die Seite in einer kleineren Ansicht geöffnet ist, ist die Option „Sortieren nach“ im Menü „Filter“ auf der linken Seite versteckt. "
   ]
  },
  {
   "cell_type": "code",
   "execution_count": 7,
   "metadata": {},
   "outputs": [],
   "source": [
    "# Filtern nach \"Neueste\"\n",
    "try:\n",
    "   # Vollbildmodus\n",
    "    filter_button = driver.find_element(By.XPATH, '//button[@role=\"button\" and contains(., \"Sortieren nach\")]')\n",
    "    filter_button.click()\n",
    "    time.sleep(2)\n",
    "\n",
    "    latest_link= driver.find_element(By.CSS_SELECTOR, \"a[href*='order_by=latest']\")\n",
    "    latest_link.click()\n",
    "    time.sleep(2)\n",
    "except:\n",
    "    print(\"Sortieren nach is not directly available. Checking Filter menu...\")\n",
    "    try:\n",
    "        # Kleinere Ansicht: \"Neueste\" über das Filtermenü auswählen\n",
    "        filter_button = driver.find_element(By.XPATH, \"//button[.//span[text()='Filter']]\")\n",
    "        filter_button.click()\n",
    "        time.sleep(2)\n",
    "\n",
    "\n",
    "        latest_button = driver.find_element(By.XPATH, \"//button[div[contains(text(),'Neuestes')]]\")\n",
    "        latest_button.click()\n",
    "        time.sleep(2)\n",
    "\n",
    "        apply_button = driver.find_element(By.XPATH, \"//button[contains(text(), 'Anwenden')]\")\n",
    "        apply_button.click()\n",
    "        \n",
    "    except Exception as e:\n",
    "        print(f\"Error: {e}\")\n"
   ]
  },
  {
   "cell_type": "markdown",
   "metadata": {},
   "source": [
    "Erstes Foto auswählen und anklicken:"
   ]
  },
  {
   "cell_type": "code",
   "execution_count": 8,
   "metadata": {},
   "outputs": [],
   "source": [
    "# Erstes Foto auswählen und anklicken\n",
    "photos= driver.find_elements(By.CSS_SELECTOR, '[data-testid=\"photo-grid-masonry-img\"]')\n",
    "first_photo= photos[0]\n",
    "first_photo.click()\n",
    "time.sleep(2)"
   ]
  },
  {
   "cell_type": "markdown",
   "metadata": {},
   "source": [
    "Ausgeben des Veröffentlichungsdatums:"
   ]
  },
  {
   "cell_type": "code",
   "execution_count": 9,
   "metadata": {},
   "outputs": [
    {
     "name": "stdout",
     "output_type": "stream",
     "text": [
      "Veröffentlichungsdatum (datetime): 2024-12-04\n",
      "Veröffentlichungsdatum (Text): vor 2 Wochen\n"
     ]
    }
   ],
   "source": [
    "\n",
    "time_element = driver.find_element(By.TAG_NAME, \"time\")\n",
    "\n",
    "# Den Wert des Attributs \"datetime\" extrahieren\n",
    "datetime_value = time_element.get_attribute(\"datetime\")\n",
    "print(f\"Veröffentlichungsdatum (datetime): {datetime_value[:10]}\")\n",
    "\n",
    "# Den Text innerhalb des Tags extrahieren\n",
    "time_text = time_element.text\n",
    "print(f\"Veröffentlichungsdatum (Text): {time_text}\")\n",
    "\n",
    "time.sleep(2)\n"
   ]
  },
  {
   "cell_type": "markdown",
   "metadata": {},
   "source": [
    "## Testfall 2: Entdecken und herunterladen"
   ]
  },
  {
   "cell_type": "code",
   "execution_count": 18,
   "metadata": {},
   "outputs": [],
   "source": [
    "#Drücke Discover-Link\n",
    "driver.get(\"https://unsplash.com/de\")\n",
    "time.sleep(2)"
   ]
  },
  {
   "cell_type": "markdown",
   "metadata": {},
   "source": [
    "Überprüfen, ob das Cookie-Banner angezeigt wird, und akzeptieren, wenn es vorhanden ist"
   ]
  },
  {
   "cell_type": "code",
   "execution_count": 20,
   "metadata": {},
   "outputs": [
    {
     "name": "stdout",
     "output_type": "stream",
     "text": [
      "Cookies akzeptiert.\n"
     ]
    }
   ],
   "source": [
    "try:\n",
    "    cookies = driver.find_element(By.CLASS_NAME, \"styles-module_consentButton__IDK22\")\n",
    "    cookies.click()\n",
    "    time.sleep(2)\n",
    "    print(\"Cookies akzeptiert.\")\n",
    "except:\n",
    "    print(\"Cookie-Banner nicht angezeigt. Keine Aktion erforderlich.\")"
   ]
  },
  {
   "cell_type": "markdown",
   "metadata": {},
   "source": [
    "\"Entdecken\"-Button im Vollbildmodus finden und anklicken"
   ]
  },
  {
   "cell_type": "code",
   "execution_count": 21,
   "metadata": {},
   "outputs": [],
   "source": [
    "entdecken_button = driver.find_element(By.CSS_SELECTOR, \"a[href='/de/entdecken']\")\n",
    "entdecken_button.click()\n",
    "time.sleep(2)"
   ]
  },
  {
   "cell_type": "markdown",
   "metadata": {},
   "source": [
    "\n",
    "Dieser Code sucht nach Fotos auf einer Webseite, die die Option \"Kostenlos herunterladen\" bieten, und wählt das erste verfügbare Foto aus."
   ]
  },
  {
   "cell_type": "code",
   "execution_count": 22,
   "metadata": {},
   "outputs": [],
   "source": [
    "photos = driver.find_elements(By.CSS_SELECTOR, \"figure[data-testid='photo-grid-masonry-figure']\")\n",
    "\n",
    "for photo in photos:\n",
    "    free_download = photo.find_elements(By.CSS_SELECTOR, '[data-testid=\"non-sponsored-photo-download-button\"]') \n",
    "    time.sleep(2)\n",
    "    if free_download:\n",
    "        photo.click()\n",
    "        break \n",
    "\n",
    "\n",
    "time.sleep(10) # Warten, bis das Foto vollständig geladen ist"
   ]
  },
  {
   "cell_type": "code",
   "execution_count": 24,
   "metadata": {},
   "outputs": [],
   "source": [
    "# Download-Button anklicken\n",
    "download_button = driver.find_element(By.XPATH, \"//a[contains(text(), 'Kostenlos herunterladen')]\")\n",
    "download_button.click()\n",
    "time.sleep(10) # Warten, bis der Download abgeschlossen ist"
   ]
  },
  {
   "cell_type": "markdown",
   "metadata": {},
   "source": [
    "\n",
    "In jedem heruntergeladenen Bildnamen gibt es zwei wichtige Bestandteile: den Namen des Fotografen und \"unsplash.jpg\".\n",
    "\n",
    "Um zu überprüfen, ob der Bilddownload erfolgreich war, werden die Dateien im Download-Verzeichnis durchsucht, um festzustellen, ob eine Datei existiert, deren Name sowohl den Namen des Fotografen als auch den Begriff \"unsplash.jpg\" enthält.\n",
    "\n",
    "ACHTUNG:\n",
    "\n",
    "Um zu überprüfen, ob die Datei im Download-Ordner vorhanden ist, muss in VS Code der Zugriff auf den Download-Ordner freigegeben werden."
   ]
  },
  {
   "cell_type": "code",
   "execution_count": 25,
   "metadata": {},
   "outputs": [
    {
     "name": "stdout",
     "output_type": "stream",
     "text": [
      "Download erfolgreich\n"
     ]
    }
   ],
   "source": [
    "from unidecode import unidecode\n",
    "import os\n",
    "\n",
    "flag = False\n",
    "all_a_elements = driver.find_elements(By.XPATH, \"//div[@data-testid='photos-route']//a\")\n",
    "photographer_name = unidecode(all_a_elements[1].text.lower().replace(\" \", \"-\"))\n",
    "\n",
    "\n",
    "downloads_path = os.path.expanduser(\"~/Downloads\")\n",
    "\n",
    "for file_name in os.listdir(downloads_path):\n",
    "    if photographer_name in file_name and \"unsplash.jpg\" in file_name:\n",
    "        print('Download erfolgreich')\n",
    "        flag = True\n",
    "        break\n",
    "if not flag:\n",
    "    print(\"Download fehlgeschlagen!\")\n",
    "\n"
   ]
  },
  {
   "cell_type": "markdown",
   "metadata": {},
   "source": [
    "## Abschluss"
   ]
  },
  {
   "cell_type": "code",
   "execution_count": 327,
   "metadata": {},
   "outputs": [],
   "source": [
    "# Schließen des Treibers\n",
    "driver.quit()"
   ]
  },
  {
   "cell_type": "markdown",
   "metadata": {},
   "source": [
    "# Vor- und Nachteile von GUI-Testing:\n",
    "\n",
    "## Positive Aspekte:\n",
    "\n",
    "- GUI-Testing simuliert das Verhalten eines echten Benutzers, was wir persönlich sehr spannend und interessant fanden. Es gibt die Möglichkeit, den gesamten Workflow einer Webseite zu testen, ähnlich wie ein echter Nutzer die Seite erleben würde.\n",
    "\n",
    "- Obwohl die Einrichtung des Tests zeitaufwändig war, konnten wir feststellen, dass nach der Einrichtung die Ausführung des Tests im Vergleich zu manuellen Tests deutlich schneller ist.\n",
    "\n",
    "## Herausforderungen und Nachteile:\n",
    "\n",
    "- Das Finden der richtigen CSS-Klassen oder XPath für Buttons, Filter und andere Elemente war manchmal zeitintensiv.\n",
    "\n",
    "- Eine dynamische Webseite kann Probleme verursachen. Zum Beispiel haben wir festgestellt, dass die Position des Filters \"Neueste\" je nach Bildschirmgröße unterschiedlich ist (Vollbildmodus vs. kleinere Ansicht). Solche Änderungen erfordern unterschiedliche Ansätze im Code, was die Tests komplizierter macht.\n",
    "\n",
    "- Pop-ups wie Cookie-Banner oder ähnliche dynamische Elemente müssen berücksichtigt und \"gehändelt\" werden, damit der Test nicht unterbrochen wird.\n",
    "\n",
    "- Jede kleine Änderung in der Struktur der Webseite, wie z. B. das Umbenennen von CSS-Klassen oder die Neuanordnung von Elementen, kann dazu führen, dass die Tests fehlschlagen. Das erfordert regelmäßige Wartung der Testskripte.\n",
    " \n",
    "- Die CSS-Klassen oder andere Eigenschaften von Elementen können sich häufig ändern, was dazu führt, dass Tests fehlschlagen. Besonders bei dynamischen Webseiten erfordert dies eine sorgfältige Auswahl von Elementen, um stabilere und weniger fehleranfällige Tests zu schreiben. Es ist wichtig, erfahren zu sein und zu wissen, welche Attribute oder Strategien für die Testautomatisierung zuverlässiger sind, z. B. das Verwenden von data-testid oder anderen stabilen Eigenschaften anstelle von rein visuellen Klassen."
   ]
  }
 ],
 "metadata": {
  "kernelspec": {
   "display_name": "softwareengineering",
   "language": "python",
   "name": "python3"
  },
  "language_info": {
   "codemirror_mode": {
    "name": "ipython",
    "version": 3
   },
   "file_extension": ".py",
   "mimetype": "text/x-python",
   "name": "python",
   "nbconvert_exporter": "python",
   "pygments_lexer": "ipython3",
   "version": "3.12.7"
  }
 },
 "nbformat": 4,
 "nbformat_minor": 2
}
